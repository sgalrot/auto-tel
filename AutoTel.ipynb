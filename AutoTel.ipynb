{
  "cells": [
    {
      "cell_type": "markdown",
      "metadata": {
        "id": "view-in-github",
        "colab_type": "text"
      },
      "source": [
        "<a href=\"https://colab.research.google.com/github/sgalrot/auto-tel/blob/main/AutoTel.ipynb\" target=\"_parent\"><img src=\"https://colab.research.google.com/assets/colab-badge.svg\" alt=\"Open In Colab\"/></a>"
      ]
    },
    {
      "cell_type": "code",
      "execution_count": 1,
      "metadata": {
        "id": "8v-rOjleXLtH"
      },
      "outputs": [],
      "source": [
        "import numpy as np \n",
        "import pandas as pd\n",
        "import matplotlib.pyplot as plt\n",
        "\n",
        "## Setup matplotlib to output figures into the notebook\n",
        "%matplotlib inline\n",
        "\n",
        "## Set some default values of the the matplotlib plots\n",
        "plt.rcParams['figure.figsize'] = (6.0, 6.0)  # Set default plot's sizes\n",
        "plt.rcParams['figure.dpi'] = 120  # Set default plot's dpi (increase fonts' size)\n",
        "plt.rcParams['axes.grid'] = True  # Show grid by default in figures"
      ]
    },
    {
      "cell_type": "markdown",
      "metadata": {
        "id": "mJghDozPdVdE"
      },
      "source": [
        "### Loading the dataset"
      ]
    },
    {
      "cell_type": "code",
      "execution_count": 2,
      "metadata": {
        "id": "c1l0ACbKZlOb"
      },
      "outputs": [],
      "source": [
        "dataset_location = 'https://opendata.tel-aviv.gov.il//AutoTelReservations/202107_AutoTel.csv'\n",
        "\n",
        "## Loading the data\n",
        "dataset = pd.read_csv(dataset_location, parse_dates=['startDate', 'endDate', 'tripActualStart', 'tripActualEnd'])\n",
        "## Drop nans\n",
        "dataset.dropna(inplace=True)\n",
        "# dataset_mizdamen = dataset[dataset['pricePlan']=='מזדמן דיגיתל FREE']"
      ]
    },
    {
      "cell_type": "code",
      "execution_count": 3,
      "metadata": {
        "id": "hNjgizABdoCf"
      },
      "outputs": [],
      "source": [
        "y_field = 'tripTimeAmount'\n",
        "y_field2 = 'tripDistanceUsed'\n",
        "x_fields = ['tripActualStart', 'startLatitude', 'startLongitude', 'endLatitude', 'endLongitude', 'tripDistanceUsed']"
      ]
    },
    {
      "cell_type": "code",
      "execution_count": 4,
      "metadata": {
        "colab": {
          "base_uri": "https://localhost:8080/",
          "height": 823
        },
        "id": "LM8TF-FvLcCM",
        "outputId": "fca39fd1-33d3-4d96-c161-77932e86e9e2"
      },
      "outputs": [
        {
          "output_type": "execute_result",
          "data": {
            "text/plain": [
              "       reservationId           startDate             endDate  \\\n",
              "0            1978214 2021-07-01 00:04:00 2021-07-01 00:09:00   \n",
              "1            1978215 2021-07-01 00:05:00 2021-07-01 00:05:00   \n",
              "2            1978216 2021-07-01 00:06:00 2021-07-01 00:11:00   \n",
              "3            1978217 2021-07-01 00:08:00 2021-07-01 00:08:00   \n",
              "4            1978218 2021-07-01 00:08:00 2021-07-01 00:17:00   \n",
              "...              ...                 ...                 ...   \n",
              "47528        2037914 2021-07-31 23:53:00 2021-08-01 00:00:00   \n",
              "47529        2037915 2021-07-31 23:54:00 2021-07-31 23:54:00   \n",
              "47530        2037917 2021-07-31 23:55:00 2021-07-31 23:58:00   \n",
              "47531        2037918 2021-07-31 23:58:00 2021-08-01 00:06:00   \n",
              "47532        2037919 2021-07-31 23:59:00 2021-07-31 23:59:00   \n",
              "\n",
              "          tripActualStart       tripActualEnd  tripTimeAmount  \\\n",
              "0     2021-07-01 00:09:00 2021-07-01 00:29:00          1191.0   \n",
              "1     2021-07-01 00:05:00 2021-07-01 00:24:00          1140.0   \n",
              "2     2021-07-01 00:11:00 2021-07-01 00:29:00          1062.0   \n",
              "3     2021-07-01 00:08:00 2021-07-01 00:18:00           595.0   \n",
              "4     2021-07-01 00:17:00 2021-07-01 00:49:00          1929.0   \n",
              "...                   ...                 ...             ...   \n",
              "47528 2021-08-01 00:00:00 2021-08-01 00:14:00           808.0   \n",
              "47529 2021-07-31 23:54:00 2021-08-01 00:22:00          1672.0   \n",
              "47530 2021-07-31 23:58:00 2021-08-01 00:09:00           712.0   \n",
              "47531 2021-08-01 00:06:00 2021-08-01 00:15:00           526.0   \n",
              "47532 2021-07-31 23:59:00 2021-08-01 00:13:00           826.0   \n",
              "\n",
              "       tripDistanceUsed      reservationDate     cancellationDate  carId  \\\n",
              "0                  13.0  07/01/2021 00:04:00  01/01/2001 00:00:00   51.0   \n",
              "1                  10.0  07/01/2021 00:05:00  01/01/2001 00:00:00  314.0   \n",
              "2                   9.0  07/01/2021 00:06:00  01/01/2001 00:00:00  345.0   \n",
              "3                   0.0  07/01/2021 00:08:00  01/01/2001 00:00:00   52.0   \n",
              "4                   2.0  07/01/2021 00:08:00  01/01/2001 00:00:00  202.0   \n",
              "...                 ...                  ...                  ...    ...   \n",
              "47528               6.0  07/31/2021 23:53:00  01/01/2001 00:00:00  157.0   \n",
              "47529               9.0  07/31/2021 23:54:00  01/01/2001 00:00:00  334.0   \n",
              "47530               3.0  07/31/2021 23:55:00  01/01/2001 00:00:00  156.0   \n",
              "47531               3.0  07/31/2021 23:58:00  01/01/2001 00:00:00   37.0   \n",
              "47532               7.0  07/31/2021 23:59:00  01/01/2001 00:00:00  264.0   \n",
              "\n",
              "      reservationStatus  pricePlanId            pricePlan  startLatitude  \\\n",
              "0                 Ended          6.0    מזדמן דיגיתל FREE       32.06575   \n",
              "1                 Ended          7.0           מתמיד FREE       32.06166   \n",
              "2                 Ended          5.0           מזדמן FREE       32.10728   \n",
              "3                 Ended          0.0  מסלול אוטותל המקורי       32.07608   \n",
              "4                 Ended          0.0  מסלול אוטותל המקורי       32.06709   \n",
              "...                 ...          ...                  ...            ...   \n",
              "47528             Ended          1.0   מסלול מתמיד אוטותל       32.06974   \n",
              "47529             Ended          0.0  מסלול אוטותל המקורי       32.07636   \n",
              "47530             Ended          8.0    מתמיד דיגיתל FREE       32.06734   \n",
              "47531             Ended          7.0           מתמיד FREE       32.10233   \n",
              "47532             Ended          6.0    מזדמן דיגיתל FREE       32.12654   \n",
              "\n",
              "       startLongitude  endLatitude  endLongitude  \n",
              "0            34.77698     32.12774      34.83341  \n",
              "1            34.80570     32.11881      34.82722  \n",
              "2            34.83423     32.09031      34.77792  \n",
              "3            34.77655     32.07607      34.77649  \n",
              "4            34.77243     32.06484      34.77072  \n",
              "...               ...          ...           ...  \n",
              "47528        34.79133     32.10717      34.80241  \n",
              "47529        34.78559     32.10559      34.81889  \n",
              "47530        34.77518     32.05684      34.76092  \n",
              "47531        34.82291     32.10900      34.80355  \n",
              "47532        34.79670     32.08661      34.77961  \n",
              "\n",
              "[47512 rows x 17 columns]"
            ],
            "text/html": [
              "\n",
              "  <div id=\"df-98d57b59-25d6-4b8c-b820-b558c6d2a8d6\">\n",
              "    <div class=\"colab-df-container\">\n",
              "      <div>\n",
              "<style scoped>\n",
              "    .dataframe tbody tr th:only-of-type {\n",
              "        vertical-align: middle;\n",
              "    }\n",
              "\n",
              "    .dataframe tbody tr th {\n",
              "        vertical-align: top;\n",
              "    }\n",
              "\n",
              "    .dataframe thead th {\n",
              "        text-align: right;\n",
              "    }\n",
              "</style>\n",
              "<table border=\"1\" class=\"dataframe\">\n",
              "  <thead>\n",
              "    <tr style=\"text-align: right;\">\n",
              "      <th></th>\n",
              "      <th>reservationId</th>\n",
              "      <th>startDate</th>\n",
              "      <th>endDate</th>\n",
              "      <th>tripActualStart</th>\n",
              "      <th>tripActualEnd</th>\n",
              "      <th>tripTimeAmount</th>\n",
              "      <th>tripDistanceUsed</th>\n",
              "      <th>reservationDate</th>\n",
              "      <th>cancellationDate</th>\n",
              "      <th>carId</th>\n",
              "      <th>reservationStatus</th>\n",
              "      <th>pricePlanId</th>\n",
              "      <th>pricePlan</th>\n",
              "      <th>startLatitude</th>\n",
              "      <th>startLongitude</th>\n",
              "      <th>endLatitude</th>\n",
              "      <th>endLongitude</th>\n",
              "    </tr>\n",
              "  </thead>\n",
              "  <tbody>\n",
              "    <tr>\n",
              "      <th>0</th>\n",
              "      <td>1978214</td>\n",
              "      <td>2021-07-01 00:04:00</td>\n",
              "      <td>2021-07-01 00:09:00</td>\n",
              "      <td>2021-07-01 00:09:00</td>\n",
              "      <td>2021-07-01 00:29:00</td>\n",
              "      <td>1191.0</td>\n",
              "      <td>13.0</td>\n",
              "      <td>07/01/2021 00:04:00</td>\n",
              "      <td>01/01/2001 00:00:00</td>\n",
              "      <td>51.0</td>\n",
              "      <td>Ended</td>\n",
              "      <td>6.0</td>\n",
              "      <td>מזדמן דיגיתל FREE</td>\n",
              "      <td>32.06575</td>\n",
              "      <td>34.77698</td>\n",
              "      <td>32.12774</td>\n",
              "      <td>34.83341</td>\n",
              "    </tr>\n",
              "    <tr>\n",
              "      <th>1</th>\n",
              "      <td>1978215</td>\n",
              "      <td>2021-07-01 00:05:00</td>\n",
              "      <td>2021-07-01 00:05:00</td>\n",
              "      <td>2021-07-01 00:05:00</td>\n",
              "      <td>2021-07-01 00:24:00</td>\n",
              "      <td>1140.0</td>\n",
              "      <td>10.0</td>\n",
              "      <td>07/01/2021 00:05:00</td>\n",
              "      <td>01/01/2001 00:00:00</td>\n",
              "      <td>314.0</td>\n",
              "      <td>Ended</td>\n",
              "      <td>7.0</td>\n",
              "      <td>מתמיד FREE</td>\n",
              "      <td>32.06166</td>\n",
              "      <td>34.80570</td>\n",
              "      <td>32.11881</td>\n",
              "      <td>34.82722</td>\n",
              "    </tr>\n",
              "    <tr>\n",
              "      <th>2</th>\n",
              "      <td>1978216</td>\n",
              "      <td>2021-07-01 00:06:00</td>\n",
              "      <td>2021-07-01 00:11:00</td>\n",
              "      <td>2021-07-01 00:11:00</td>\n",
              "      <td>2021-07-01 00:29:00</td>\n",
              "      <td>1062.0</td>\n",
              "      <td>9.0</td>\n",
              "      <td>07/01/2021 00:06:00</td>\n",
              "      <td>01/01/2001 00:00:00</td>\n",
              "      <td>345.0</td>\n",
              "      <td>Ended</td>\n",
              "      <td>5.0</td>\n",
              "      <td>מזדמן FREE</td>\n",
              "      <td>32.10728</td>\n",
              "      <td>34.83423</td>\n",
              "      <td>32.09031</td>\n",
              "      <td>34.77792</td>\n",
              "    </tr>\n",
              "    <tr>\n",
              "      <th>3</th>\n",
              "      <td>1978217</td>\n",
              "      <td>2021-07-01 00:08:00</td>\n",
              "      <td>2021-07-01 00:08:00</td>\n",
              "      <td>2021-07-01 00:08:00</td>\n",
              "      <td>2021-07-01 00:18:00</td>\n",
              "      <td>595.0</td>\n",
              "      <td>0.0</td>\n",
              "      <td>07/01/2021 00:08:00</td>\n",
              "      <td>01/01/2001 00:00:00</td>\n",
              "      <td>52.0</td>\n",
              "      <td>Ended</td>\n",
              "      <td>0.0</td>\n",
              "      <td>מסלול אוטותל המקורי</td>\n",
              "      <td>32.07608</td>\n",
              "      <td>34.77655</td>\n",
              "      <td>32.07607</td>\n",
              "      <td>34.77649</td>\n",
              "    </tr>\n",
              "    <tr>\n",
              "      <th>4</th>\n",
              "      <td>1978218</td>\n",
              "      <td>2021-07-01 00:08:00</td>\n",
              "      <td>2021-07-01 00:17:00</td>\n",
              "      <td>2021-07-01 00:17:00</td>\n",
              "      <td>2021-07-01 00:49:00</td>\n",
              "      <td>1929.0</td>\n",
              "      <td>2.0</td>\n",
              "      <td>07/01/2021 00:08:00</td>\n",
              "      <td>01/01/2001 00:00:00</td>\n",
              "      <td>202.0</td>\n",
              "      <td>Ended</td>\n",
              "      <td>0.0</td>\n",
              "      <td>מסלול אוטותל המקורי</td>\n",
              "      <td>32.06709</td>\n",
              "      <td>34.77243</td>\n",
              "      <td>32.06484</td>\n",
              "      <td>34.77072</td>\n",
              "    </tr>\n",
              "    <tr>\n",
              "      <th>...</th>\n",
              "      <td>...</td>\n",
              "      <td>...</td>\n",
              "      <td>...</td>\n",
              "      <td>...</td>\n",
              "      <td>...</td>\n",
              "      <td>...</td>\n",
              "      <td>...</td>\n",
              "      <td>...</td>\n",
              "      <td>...</td>\n",
              "      <td>...</td>\n",
              "      <td>...</td>\n",
              "      <td>...</td>\n",
              "      <td>...</td>\n",
              "      <td>...</td>\n",
              "      <td>...</td>\n",
              "      <td>...</td>\n",
              "      <td>...</td>\n",
              "    </tr>\n",
              "    <tr>\n",
              "      <th>47528</th>\n",
              "      <td>2037914</td>\n",
              "      <td>2021-07-31 23:53:00</td>\n",
              "      <td>2021-08-01 00:00:00</td>\n",
              "      <td>2021-08-01 00:00:00</td>\n",
              "      <td>2021-08-01 00:14:00</td>\n",
              "      <td>808.0</td>\n",
              "      <td>6.0</td>\n",
              "      <td>07/31/2021 23:53:00</td>\n",
              "      <td>01/01/2001 00:00:00</td>\n",
              "      <td>157.0</td>\n",
              "      <td>Ended</td>\n",
              "      <td>1.0</td>\n",
              "      <td>מסלול מתמיד אוטותל</td>\n",
              "      <td>32.06974</td>\n",
              "      <td>34.79133</td>\n",
              "      <td>32.10717</td>\n",
              "      <td>34.80241</td>\n",
              "    </tr>\n",
              "    <tr>\n",
              "      <th>47529</th>\n",
              "      <td>2037915</td>\n",
              "      <td>2021-07-31 23:54:00</td>\n",
              "      <td>2021-07-31 23:54:00</td>\n",
              "      <td>2021-07-31 23:54:00</td>\n",
              "      <td>2021-08-01 00:22:00</td>\n",
              "      <td>1672.0</td>\n",
              "      <td>9.0</td>\n",
              "      <td>07/31/2021 23:54:00</td>\n",
              "      <td>01/01/2001 00:00:00</td>\n",
              "      <td>334.0</td>\n",
              "      <td>Ended</td>\n",
              "      <td>0.0</td>\n",
              "      <td>מסלול אוטותל המקורי</td>\n",
              "      <td>32.07636</td>\n",
              "      <td>34.78559</td>\n",
              "      <td>32.10559</td>\n",
              "      <td>34.81889</td>\n",
              "    </tr>\n",
              "    <tr>\n",
              "      <th>47530</th>\n",
              "      <td>2037917</td>\n",
              "      <td>2021-07-31 23:55:00</td>\n",
              "      <td>2021-07-31 23:58:00</td>\n",
              "      <td>2021-07-31 23:58:00</td>\n",
              "      <td>2021-08-01 00:09:00</td>\n",
              "      <td>712.0</td>\n",
              "      <td>3.0</td>\n",
              "      <td>07/31/2021 23:55:00</td>\n",
              "      <td>01/01/2001 00:00:00</td>\n",
              "      <td>156.0</td>\n",
              "      <td>Ended</td>\n",
              "      <td>8.0</td>\n",
              "      <td>מתמיד דיגיתל FREE</td>\n",
              "      <td>32.06734</td>\n",
              "      <td>34.77518</td>\n",
              "      <td>32.05684</td>\n",
              "      <td>34.76092</td>\n",
              "    </tr>\n",
              "    <tr>\n",
              "      <th>47531</th>\n",
              "      <td>2037918</td>\n",
              "      <td>2021-07-31 23:58:00</td>\n",
              "      <td>2021-08-01 00:06:00</td>\n",
              "      <td>2021-08-01 00:06:00</td>\n",
              "      <td>2021-08-01 00:15:00</td>\n",
              "      <td>526.0</td>\n",
              "      <td>3.0</td>\n",
              "      <td>07/31/2021 23:58:00</td>\n",
              "      <td>01/01/2001 00:00:00</td>\n",
              "      <td>37.0</td>\n",
              "      <td>Ended</td>\n",
              "      <td>7.0</td>\n",
              "      <td>מתמיד FREE</td>\n",
              "      <td>32.10233</td>\n",
              "      <td>34.82291</td>\n",
              "      <td>32.10900</td>\n",
              "      <td>34.80355</td>\n",
              "    </tr>\n",
              "    <tr>\n",
              "      <th>47532</th>\n",
              "      <td>2037919</td>\n",
              "      <td>2021-07-31 23:59:00</td>\n",
              "      <td>2021-07-31 23:59:00</td>\n",
              "      <td>2021-07-31 23:59:00</td>\n",
              "      <td>2021-08-01 00:13:00</td>\n",
              "      <td>826.0</td>\n",
              "      <td>7.0</td>\n",
              "      <td>07/31/2021 23:59:00</td>\n",
              "      <td>01/01/2001 00:00:00</td>\n",
              "      <td>264.0</td>\n",
              "      <td>Ended</td>\n",
              "      <td>6.0</td>\n",
              "      <td>מזדמן דיגיתל FREE</td>\n",
              "      <td>32.12654</td>\n",
              "      <td>34.79670</td>\n",
              "      <td>32.08661</td>\n",
              "      <td>34.77961</td>\n",
              "    </tr>\n",
              "  </tbody>\n",
              "</table>\n",
              "<p>47512 rows × 17 columns</p>\n",
              "</div>\n",
              "      <button class=\"colab-df-convert\" onclick=\"convertToInteractive('df-98d57b59-25d6-4b8c-b820-b558c6d2a8d6')\"\n",
              "              title=\"Convert this dataframe to an interactive table.\"\n",
              "              style=\"display:none;\">\n",
              "        \n",
              "  <svg xmlns=\"http://www.w3.org/2000/svg\" height=\"24px\"viewBox=\"0 0 24 24\"\n",
              "       width=\"24px\">\n",
              "    <path d=\"M0 0h24v24H0V0z\" fill=\"none\"/>\n",
              "    <path d=\"M18.56 5.44l.94 2.06.94-2.06 2.06-.94-2.06-.94-.94-2.06-.94 2.06-2.06.94zm-11 1L8.5 8.5l.94-2.06 2.06-.94-2.06-.94L8.5 2.5l-.94 2.06-2.06.94zm10 10l.94 2.06.94-2.06 2.06-.94-2.06-.94-.94-2.06-.94 2.06-2.06.94z\"/><path d=\"M17.41 7.96l-1.37-1.37c-.4-.4-.92-.59-1.43-.59-.52 0-1.04.2-1.43.59L10.3 9.45l-7.72 7.72c-.78.78-.78 2.05 0 2.83L4 21.41c.39.39.9.59 1.41.59.51 0 1.02-.2 1.41-.59l7.78-7.78 2.81-2.81c.8-.78.8-2.07 0-2.86zM5.41 20L4 18.59l7.72-7.72 1.47 1.35L5.41 20z\"/>\n",
              "  </svg>\n",
              "      </button>\n",
              "      \n",
              "  <style>\n",
              "    .colab-df-container {\n",
              "      display:flex;\n",
              "      flex-wrap:wrap;\n",
              "      gap: 12px;\n",
              "    }\n",
              "\n",
              "    .colab-df-convert {\n",
              "      background-color: #E8F0FE;\n",
              "      border: none;\n",
              "      border-radius: 50%;\n",
              "      cursor: pointer;\n",
              "      display: none;\n",
              "      fill: #1967D2;\n",
              "      height: 32px;\n",
              "      padding: 0 0 0 0;\n",
              "      width: 32px;\n",
              "    }\n",
              "\n",
              "    .colab-df-convert:hover {\n",
              "      background-color: #E2EBFA;\n",
              "      box-shadow: 0px 1px 2px rgba(60, 64, 67, 0.3), 0px 1px 3px 1px rgba(60, 64, 67, 0.15);\n",
              "      fill: #174EA6;\n",
              "    }\n",
              "\n",
              "    [theme=dark] .colab-df-convert {\n",
              "      background-color: #3B4455;\n",
              "      fill: #D2E3FC;\n",
              "    }\n",
              "\n",
              "    [theme=dark] .colab-df-convert:hover {\n",
              "      background-color: #434B5C;\n",
              "      box-shadow: 0px 1px 3px 1px rgba(0, 0, 0, 0.15);\n",
              "      filter: drop-shadow(0px 1px 2px rgba(0, 0, 0, 0.3));\n",
              "      fill: #FFFFFF;\n",
              "    }\n",
              "  </style>\n",
              "\n",
              "      <script>\n",
              "        const buttonEl =\n",
              "          document.querySelector('#df-98d57b59-25d6-4b8c-b820-b558c6d2a8d6 button.colab-df-convert');\n",
              "        buttonEl.style.display =\n",
              "          google.colab.kernel.accessAllowed ? 'block' : 'none';\n",
              "\n",
              "        async function convertToInteractive(key) {\n",
              "          const element = document.querySelector('#df-98d57b59-25d6-4b8c-b820-b558c6d2a8d6');\n",
              "          const dataTable =\n",
              "            await google.colab.kernel.invokeFunction('convertToInteractive',\n",
              "                                                     [key], {});\n",
              "          if (!dataTable) return;\n",
              "\n",
              "          const docLinkHtml = 'Like what you see? Visit the ' +\n",
              "            '<a target=\"_blank\" href=https://colab.research.google.com/notebooks/data_table.ipynb>data table notebook</a>'\n",
              "            + ' to learn more about interactive tables.';\n",
              "          element.innerHTML = '';\n",
              "          dataTable['output_type'] = 'display_data';\n",
              "          await google.colab.output.renderOutput(dataTable, element);\n",
              "          const docLink = document.createElement('div');\n",
              "          docLink.innerHTML = docLinkHtml;\n",
              "          element.appendChild(docLink);\n",
              "        }\n",
              "      </script>\n",
              "    </div>\n",
              "  </div>\n",
              "  "
            ]
          },
          "metadata": {},
          "execution_count": 4
        }
      ],
      "source": [
        "dataset"
      ]
    },
    {
      "cell_type": "code",
      "execution_count": 17,
      "metadata": {
        "colab": {
          "base_uri": "https://localhost:8080/",
          "height": 657
        },
        "id": "LN9-wYU5cl6v",
        "outputId": "d04efc8c-ee24-4661-f5f7-449f1a8b2825"
      },
      "outputs": [
        {
          "output_type": "display_data",
          "data": {
            "text/plain": [
              "<Figure size 648x648 with 10 Axes>"
            ],
            "image/png": "[encoded data removed]"
          },
          "metadata": {
            "needs_background": "light"
          }
        }
      ],
      "source": [
        "fig, axes = plt.subplots(5, 2, figsize=(9, 9))  # Create a figure with 3 over 3 axes\n",
        "axes = axes.flatten()  # Convert the object storing the axes for a 3 by 3 array into a 1D array of lenth 9.\n",
        "# Building processed functions extracted from the dataset\n",
        "phi_x_fields = ['weekDay', 'startTimeMinutes', 'startLatitude', 'startLongitude', 'endLatitude', 'endLongitude', 'tripDistanceUsed']\n",
        "# phi_x_fields = ['weekDay']\n",
        "\n",
        "def build_phi_x_field(dataset, x_field='weekDay'):\n",
        "  if x_field == 'weekDay':\n",
        "    return np.array([date.weekday() for date in dataset['tripActualStart']])\n",
        "  elif x_field == 'startTimeMinutes':\n",
        "    return np.array([date.hour*60 + date.minute for date in dataset['tripActualStart']])\n",
        "  else:\n",
        "    return dataset[x_field]\n",
        "\n",
        "\n",
        "for i_field, field in enumerate(phi_x_fields):\n",
        "    ax = axes[i_field]\n",
        "    ax.plot(build_phi_x_field(dataset, field), dataset[y_field].values, '.', markersize=1)\n",
        "    ax.set_xlabel(field)\n",
        "    ax.set_ylabel(y_field)\n",
        "fig.tight_layout()   "
      ]
    },
    {
      "cell_type": "code",
      "execution_count": null,
      "metadata": {
        "id": "tE4Pd-twJl1e"
      },
      "outputs": [],
      "source": [
        ""
      ]
    },
    {
      "cell_type": "markdown",
      "metadata": {
        "id": "a8rzPTklFo9-"
      },
      "source": [
        "## Train-test split\n",
        "\n",
        "Before we start building our model we shall first divide the dataset into 80% train and 20% test.\n",
        "\n",
        "**Note**: we will use the name train_full to indicate the train set before splitting it into train and validation."
      ]
    },
    {
      "cell_type": "code",
      "execution_count": 8,
      "metadata": {
        "id": "XUyltJgCJtDL"
      },
      "outputs": [],
      "source": [
        "n_samples = len(dataset)  # The total number of samples in the dataset\n",
        "\n",
        "## Generate a random generator with a fixed seed\n",
        "rand_gen = np.random.RandomState(0)\n",
        "\n",
        "## Generating a shuffled vector of indices\n",
        "indices = np.arange(n_samples)\n",
        "rand_gen.shuffle(indices)\n",
        "\n",
        "## Split the indices into 80% train (full) / 20% test\n",
        "n_samples_train_full = int(n_samples * 0.8)\n",
        "train_full_indices = indices[:n_samples_train_full]\n",
        "test_indices = indices[n_samples_train_full:]\n",
        "\n",
        "## Extract the sub datasets from the full dataset using the calculated indices\n",
        "train_full_set = dataset.iloc[train_full_indices]\n",
        "test_set = dataset.iloc[test_indices]"
      ]
    },
    {
      "cell_type": "markdown",
      "metadata": {
        "id": "TbcjQ82QF5ec"
      },
      "source": [
        "## Train - validation split\n",
        "\n",
        "Since we plan to test different configuration of building our model we would like to further split the train set into 75% train and 25% validation set. (which will result in a 60%-20%-20% over all split)."
      ]
    },
    {
      "cell_type": "code",
      "execution_count": 9,
      "metadata": {
        "id": "6UD9h1vDF55O"
      },
      "outputs": [],
      "source": [
        "## Generate a random generator with a fixed (different) seed\n",
        "rand_gen = np.random.RandomState(1)\n",
        "\n",
        "## Generating a shuffled vector of indices\n",
        "indices = train_full_indices.copy()\n",
        "rand_gen.shuffle(indices)\n",
        "\n",
        "## %%%%%%%%%%%%%%% Your code here - Begin %%%%%%%%%%%%%%%\n",
        "## Split the indices of the train (full) dataset into 75% train / 25% validation\n",
        "n_samples_train = int(n_samples_train_full * 0.75)\n",
        "train_indices = train_full_indices[:n_samples_train]\n",
        "val_indices = train_full_indices[n_samples_train:]\n",
        "## %%%%%%%%%%%%%%% Your code here - End %%%%%%%%%%%%%%%%%\n",
        "\n",
        "## Extract the sub datasets from the full dataset using the calculated indices\n",
        "train_set = dataset.iloc[train_indices]\n",
        "val_set = dataset.iloc[val_indices]"
      ]
    },
    {
      "cell_type": "markdown",
      "metadata": {
        "id": "OVpsx6diIMcC"
      },
      "source": [
        "### Evaluation\n",
        "- **Reminder**: the RMSE score is given by $\\sqrt{\\tfrac{1}{N}\\sum_i (\\hat{y}_i-y_i)^2}$"
      ]
    },
    {
      "cell_type": "code",
      "execution_count": 10,
      "metadata": {
        "id": "II0Oq5XHIM4i"
      },
      "outputs": [],
      "source": [
        "def calc_rmse(model, x, y):\n",
        "    ## %%%%%%%%%%%%%%% Your code here - Begin %%%%%%%%%%%%%%%\n",
        "    y_hat = model.predict(x)\n",
        "    rmse = np.sqrt(1 / len(y) * (y - y_hat) @ (y - y_hat))\n",
        "    ## %%%%%%%%%%%%%%% Your code here - End %%%%%%%%%%%%%%%%%\n",
        "    return rmse"
      ]
    },
    {
      "cell_type": "markdown",
      "metadata": {
        "id": "BdTzD05iGWKt"
      },
      "source": [
        "## Third order features\n",
        "\n",
        "We try a third order polynomial of the fields in the dataset."
      ]
    },
    {
      "cell_type": "code",
      "execution_count": 12,
      "metadata": {
        "colab": {
          "base_uri": "https://localhost:8080/"
        },
        "id": "JA0VqjzeGWn_",
        "outputId": "d3c82fd1-fed9-4507-bda5-87d805156bd2"
      },
      "outputs": [
        {
          "output_type": "stream",
          "name": "stderr",
          "text": [
            "/usr/local/lib/python3.7/dist-packages/sklearn/linear_model/_base.py:145: FutureWarning: 'normalize' was deprecated in version 1.0 and will be removed in 1.2.\n",
            "If you wish to scale the data, use Pipeline with a StandardScaler in a preprocessing stage. To reproduce the previous behavior:\n",
            "\n",
            "from sklearn.pipeline import make_pipeline\n",
            "\n",
            "model = make_pipeline(StandardScaler(with_mean=False), LinearRegression())\n",
            "\n",
            "If you wish to pass a sample_weight parameter, you need to pass it as a fit parameter to each step of the pipeline as follows:\n",
            "\n",
            "kwargs = {s[0] + '__sample_weight': sample_weight for s in model.steps}\n",
            "model.fit(X, y, **kwargs)\n",
            "\n",
            "\n",
            "  FutureWarning,\n"
          ]
        },
        {
          "output_type": "stream",
          "name": "stdout",
          "text": [
            "The train score is: 1302.16\n",
            "The validation score is: 1532.54\n"
          ]
        }
      ],
      "source": [
        "from sklearn.linear_model import LinearRegression\n",
        "\n",
        "def extract_x_y(dataset):\n",
        "    features = []\n",
        "    ## Adding first order features\n",
        "    for field in phi_x_fields:\n",
        "        features.append(build_phi_x_field(dataset, field))\n",
        "    ## Adding second order features\n",
        "    for field1 in phi_x_fields:\n",
        "       for field2 in phi_x_fields:\n",
        "           features.append(build_phi_x_field(dataset, field1) * build_phi_x_field(dataset, field2))\n",
        "    ## Adding third order features\n",
        "    for field1 in phi_x_fields:\n",
        "        for field2 in phi_x_fields:\n",
        "            for field3 in phi_x_fields:\n",
        "                features.append(build_phi_x_field(dataset, field1) * build_phi_x_field(dataset, field2) * build_phi_x_field(dataset, field3))\n",
        "        ## Adding 4th order features\n",
        "    # for field1 in phi_x_fields:\n",
        "    #     for field2 in phi_x_fields:\n",
        "    #         for field3 in phi_x_fields:\n",
        "    #             for field4 in phi_x_fields:\n",
        "    #                 features.append(build_phi_x_field(dataset, field4) * build_phi_x_field(dataset, field1) * build_phi_x_field(dataset, field2) * build_phi_x_field(dataset, field3))\n",
        "    \n",
        "    x = np.stack(features, axis=1)\n",
        "    y = dataset[y_field]\n",
        "    return x, y\n",
        "\n",
        "x_train, y_train = extract_x_y(train_set)\n",
        "x_val, y_val = extract_x_y(val_set)\n",
        "\n",
        "model = LinearRegression(normalize=True)\n",
        "model.fit(x_train, y_train)\n",
        "\n",
        "print(f'The train score is: {calc_rmse(model, x_train, y_train):.2f}')\n",
        "print(f'The validation score is: {calc_rmse(model, x_val, y_val):.2f}')"
      ]
    },
    {
      "cell_type": "code",
      "execution_count": 13,
      "metadata": {
        "colab": {
          "base_uri": "https://localhost:8080/"
        },
        "id": "0w2Wd_-FOrPD",
        "outputId": "ae291ce6-a9b5-4a56-ba19-7a9759b41c17"
      },
      "outputs": [
        {
          "output_type": "stream",
          "name": "stderr",
          "text": [
            "/usr/local/lib/python3.7/dist-packages/sklearn/linear_model/_base.py:145: FutureWarning: 'normalize' was deprecated in version 1.0 and will be removed in 1.2.\n",
            "If you wish to scale the data, use Pipeline with a StandardScaler in a preprocessing stage. To reproduce the previous behavior:\n",
            "\n",
            "from sklearn.pipeline import make_pipeline\n",
            "\n",
            "model = make_pipeline(StandardScaler(with_mean=False), Ridge())\n",
            "\n",
            "If you wish to pass a sample_weight parameter, you need to pass it as a fit parameter to each step of the pipeline as follows:\n",
            "\n",
            "kwargs = {s[0] + '__sample_weight': sample_weight for s in model.steps}\n",
            "model.fit(X, y, **kwargs)\n",
            "\n",
            "Set parameter alpha to: original_alpha * n_samples. \n",
            "  FutureWarning,\n"
          ]
        },
        {
          "output_type": "stream",
          "name": "stdout",
          "text": [
            "The train score is: 1608.65\n",
            "The validation score is: 1796.07\n"
          ]
        }
      ],
      "source": [
        "from sklearn.linear_model import Ridge\n",
        "\n",
        "model = Ridge(normalize=True, alpha=0)\n",
        "model.fit(x_train, y_train)\n",
        "\n",
        "print(f'The train score is: {calc_rmse(model, x_train, y_train):.2f}')\n",
        "print(f'The validation score is: {calc_rmse(model, x_val, y_val):.2f}')"
      ]
    },
    {
      "cell_type": "code",
      "execution_count": 14,
      "metadata": {
        "colab": {
          "base_uri": "https://localhost:8080/"
        },
        "id": "SnvFVJaJIX38",
        "outputId": "19da32e5-ecce-46db-f1ce-603c4ddfe6d5"
      },
      "outputs": [
        {
          "output_type": "stream",
          "name": "stderr",
          "text": [
            "/usr/local/lib/python3.7/dist-packages/sklearn/linear_model/_base.py:145: FutureWarning: 'normalize' was deprecated in version 1.0 and will be removed in 1.2.\n",
            "If you wish to scale the data, use Pipeline with a StandardScaler in a preprocessing stage. To reproduce the previous behavior:\n",
            "\n",
            "from sklearn.pipeline import make_pipeline\n",
            "\n",
            "model = make_pipeline(StandardScaler(with_mean=False), Ridge())\n",
            "\n",
            "If you wish to pass a sample_weight parameter, you need to pass it as a fit parameter to each step of the pipeline as follows:\n",
            "\n",
            "kwargs = {s[0] + '__sample_weight': sample_weight for s in model.steps}\n",
            "model.fit(X, y, **kwargs)\n",
            "\n",
            "Set parameter alpha to: original_alpha * n_samples. \n",
            "  FutureWarning,\n",
            "/usr/local/lib/python3.7/dist-packages/sklearn/linear_model/_base.py:145: FutureWarning: 'normalize' was deprecated in version 1.0 and will be removed in 1.2.\n",
            "If you wish to scale the data, use Pipeline with a StandardScaler in a preprocessing stage. To reproduce the previous behavior:\n",
            "\n",
            "from sklearn.pipeline import make_pipeline\n",
            "\n",
            "model = make_pipeline(StandardScaler(with_mean=False), Ridge())\n",
            "\n",
            "If you wish to pass a sample_weight parameter, you need to pass it as a fit parameter to each step of the pipeline as follows:\n",
            "\n",
            "kwargs = {s[0] + '__sample_weight': sample_weight for s in model.steps}\n",
            "model.fit(X, y, **kwargs)\n",
            "\n",
            "Set parameter alpha to: original_alpha * n_samples. \n",
            "  FutureWarning,\n",
            "/usr/local/lib/python3.7/dist-packages/sklearn/linear_model/_base.py:145: FutureWarning: 'normalize' was deprecated in version 1.0 and will be removed in 1.2.\n",
            "If you wish to scale the data, use Pipeline with a StandardScaler in a preprocessing stage. To reproduce the previous behavior:\n",
            "\n",
            "from sklearn.pipeline import make_pipeline\n",
            "\n",
            "model = make_pipeline(StandardScaler(with_mean=False), Ridge())\n",
            "\n",
            "If you wish to pass a sample_weight parameter, you need to pass it as a fit parameter to each step of the pipeline as follows:\n",
            "\n",
            "kwargs = {s[0] + '__sample_weight': sample_weight for s in model.steps}\n",
            "model.fit(X, y, **kwargs)\n",
            "\n",
            "Set parameter alpha to: original_alpha * n_samples. \n",
            "  FutureWarning,\n",
            "/usr/local/lib/python3.7/dist-packages/sklearn/linear_model/_base.py:145: FutureWarning: 'normalize' was deprecated in version 1.0 and will be removed in 1.2.\n",
            "If you wish to scale the data, use Pipeline with a StandardScaler in a preprocessing stage. To reproduce the previous behavior:\n",
            "\n",
            "from sklearn.pipeline import make_pipeline\n",
            "\n",
            "model = make_pipeline(StandardScaler(with_mean=False), Ridge())\n",
            "\n",
            "If you wish to pass a sample_weight parameter, you need to pass it as a fit parameter to each step of the pipeline as follows:\n",
            "\n",
            "kwargs = {s[0] + '__sample_weight': sample_weight for s in model.steps}\n",
            "model.fit(X, y, **kwargs)\n",
            "\n",
            "Set parameter alpha to: original_alpha * n_samples. \n",
            "  FutureWarning,\n",
            "/usr/local/lib/python3.7/dist-packages/sklearn/linear_model/_base.py:145: FutureWarning: 'normalize' was deprecated in version 1.0 and will be removed in 1.2.\n",
            "If you wish to scale the data, use Pipeline with a StandardScaler in a preprocessing stage. To reproduce the previous behavior:\n",
            "\n",
            "from sklearn.pipeline import make_pipeline\n",
            "\n",
            "model = make_pipeline(StandardScaler(with_mean=False), Ridge())\n",
            "\n",
            "If you wish to pass a sample_weight parameter, you need to pass it as a fit parameter to each step of the pipeline as follows:\n",
            "\n",
            "kwargs = {s[0] + '__sample_weight': sample_weight for s in model.steps}\n",
            "model.fit(X, y, **kwargs)\n",
            "\n",
            "Set parameter alpha to: original_alpha * n_samples. \n",
            "  FutureWarning,\n"
          ]
        }
      ],
      "source": [
        "## The list of lambdas to test\n",
        "lambdas_list = [0.0001, 0.00001, 0.000001, 1e-8, 1e-12]\n",
        "\n",
        "## We will use these two dictionaries to store the results for each lambda\n",
        "train_scores = {}\n",
        "val_scores = {}\n",
        "\n",
        "for lambda_value in lambdas_list:\n",
        "    model = Ridge(normalize=True, alpha=lambda_value)\n",
        "    model.fit(x_train, y_train)\n",
        "    \n",
        "    train_scores[lambda_value] = calc_rmse(model, x_train, y_train)\n",
        "    val_scores[lambda_value] = calc_rmse(model, x_val, y_val)"
      ]
    },
    {
      "cell_type": "code",
      "execution_count": 15,
      "metadata": {
        "colab": {
          "base_uri": "https://localhost:8080/",
          "height": 301
        },
        "id": "cZ6y45XLOqk6",
        "outputId": "de4978e9-d3fb-481f-b8b7-83cd7e1570aa"
      },
      "outputs": [
        {
          "output_type": "display_data",
          "data": {
            "text/plain": [
              "<Figure size 432x288 with 1 Axes>"
            ],
            "image/png": "[encoded data removed]"
          },
          "metadata": {
            "needs_background": "light"
          }
        }
      ],
      "source": [
        "fig, ax = plt.subplots()\n",
        "ax.set_xscale('log')\n",
        "ax.plot(list(train_scores.keys()), list(train_scores.values()), label='Train')\n",
        "ax.plot(list(val_scores.keys()), list(val_scores.values()), label='Validation')\n",
        "ax.set_ylabel('RMSE')\n",
        "ax.set_xlabel('$\\lambda$')\n",
        "ax.set_title('Score vs. $\\lambda$')\n",
        "ax.legend();"
      ]
    },
    {
      "cell_type": "code",
      "execution_count": 16,
      "metadata": {
        "colab": {
          "base_uri": "https://localhost:8080/"
        },
        "id": "CcFIXR8oIgtj",
        "outputId": "1cdee930-55e3-41d6-dbe6-20179a00e620"
      },
      "outputs": [
        {
          "output_type": "stream",
          "name": "stderr",
          "text": [
            "/usr/local/lib/python3.7/dist-packages/sklearn/linear_model/_base.py:145: FutureWarning: 'normalize' was deprecated in version 1.0 and will be removed in 1.2.\n",
            "If you wish to scale the data, use Pipeline with a StandardScaler in a preprocessing stage. To reproduce the previous behavior:\n",
            "\n",
            "from sklearn.pipeline import make_pipeline\n",
            "\n",
            "model = make_pipeline(StandardScaler(with_mean=False), Lasso())\n",
            "\n",
            "If you wish to pass a sample_weight parameter, you need to pass it as a fit parameter to each step of the pipeline as follows:\n",
            "\n",
            "kwargs = {s[0] + '__sample_weight': sample_weight for s in model.steps}\n",
            "model.fit(X, y, **kwargs)\n",
            "\n",
            "Set parameter alpha to: original_alpha * np.sqrt(n_samples). \n",
            "  FutureWarning,\n"
          ]
        },
        {
          "output_type": "stream",
          "name": "stdout",
          "text": [
            "The train score is: 1400.01\n",
            "The validation score is: 1498.57\n"
          ]
        }
      ],
      "source": [
        "from sklearn.linear_model import Lasso\n",
        "\n",
        "model = Lasso(normalize=True, alpha=0.01, max_iter=10000)\n",
        "model.fit(x_train, y_train)\n",
        "    \n",
        "print(f'The train score is: {calc_rmse(model, x_train, y_train):.2f}')\n",
        "print(f'The validation score is: {calc_rmse(model, x_val, y_val):.2f}')"
      ]
    },
    {
      "cell_type": "code",
      "execution_count": null,
      "metadata": {
        "id": "M70RTULUQAfW"
      },
      "outputs": [],
      "source": [
        ""
      ]
    }
  ],
  "metadata": {
    "colab": {
      "collapsed_sections": [],
      "name": "AutoTel.ipynb",
      "provenance": [],
      "toc_visible": true,
      "authorship_tag": "ABX9TyOzD2VmxGE6MgD2mxUMlPO+",
      "include_colab_link": true
    },
    "kernelspec": {
      "display_name": "Python 3",
      "name": "python3"
    },
    "language_info": {
      "name": "python"
    }
  },
  "nbformat": 4,
  "nbformat_minor": 0
}